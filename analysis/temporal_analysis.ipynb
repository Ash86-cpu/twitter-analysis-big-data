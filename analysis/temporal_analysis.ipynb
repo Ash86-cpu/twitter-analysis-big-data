import pandas as pd
import matplotlib.pyplot as plt
from config.paths import PROCESSED_DATA

# Load sample processed data
df = pd.read_parquet(f"{PROCESSED_DATA}/chunk_0000.parquet")

# Daily tweet volume
daily = df.resample('D', on='timestamp').size()
plt.figure(figsize=(12,6))
daily.plot(title='Daily Tweet Volume', color='#1DA1F2')
plt.ylabel('Tweet Count')
plt.tight_layout()
plt.show()